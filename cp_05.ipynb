{
  "nbformat": 4,
  "nbformat_minor": 0,
  "metadata": {
    "colab": {
      "provenance": [],
      "authorship_tag": "ABX9TyNExGHNGMAvhUCDyvpAIdDM",
      "include_colab_link": true
    },
    "kernelspec": {
      "name": "python3",
      "display_name": "Python 3"
    },
    "language_info": {
      "name": "python"
    }
  },
  "cells": [
    {
      "cell_type": "markdown",
      "metadata": {
        "id": "view-in-github",
        "colab_type": "text"
      },
      "source": [
        "<a href=\"https://colab.research.google.com/github/juvascoli/redes-neurais-keras/blob/main/cp_05.ipynb\" target=\"_parent\"><img src=\"https://colab.research.google.com/assets/colab-badge.svg\" alt=\"Open In Colab\"/></a>"
      ]
    },
    {
      "cell_type": "markdown",
      "source": [
        "EXERCÍCIO 1 – CLASSIFICAÇÃO MULTICLASSE\n",
        "Dataset: Wine Dataset (UCI)\n",
        "1. Treinar uma rede neural em Keras para classificar vinhos em 3 classes.\n",
        "- Configuração mínima: 2 camadas ocultas com 32 neurônios cada, função de ativação ReLU.\n",
        "- Camada de saída com 3 neurônios, função de ativação Softmax.\n",
        "- Função de perda: categorical_crossentropy.\n",
        "- Otimizador: Adam.\n",
        "2. Comparar os resultados com um modelo do scikit-learn (RandomForestClassifier ou\n",
        "LogisticRegression).\n",
        "3. Registrar métricas de acurácia e discutir qual modelo teve melhor desempenho."
      ],
      "metadata": {
        "id": "s6DrVv94ig3y"
      }
    },
    {
      "cell_type": "code",
      "execution_count": null,
      "metadata": {
        "id": "gFzP1UMtfmWN"
      },
      "outputs": [],
      "source": [
        "import pandas as pd\n",
        "import numpy as np\n",
        "from sklearn.model_selection import train_test_split\n",
        "from sklearn.preprocessing import StandardScaler\n",
        "from tensorflow.keras.utils import to_categorical\n",
        "\n",
        "# Carregar o dataset\n",
        "cols = ['Class', 'Alcohol', 'Malic_acid', 'Ash', 'Alcalinity_of_ash', 'Magnesium',\n",
        "        'Total_phenols', 'Flavanoids', 'Nonflavanoid_phenols', 'Proanthocyanins',\n",
        "        'Color_intensity', 'Hue', 'OD280_OD315', 'Proline']\n",
        "df = pd.read_csv('wine.data', header=None, names=cols)\n",
        "\n",
        "X = df.drop('Class', axis=1).values\n",
        "y = df['Class'].values - 1  # classes: 0, 1, 2\n",
        "\n",
        "# Dividir em treino e teste\n",
        "X_train, X_test, y_train, y_test = train_test_split(\n",
        "    X, y, stratify=y, test_size=0.2, random_state=42)\n",
        "\n",
        "# Normalizar features\n",
        "scaler = StandardScaler()\n",
        "X_train_scaled = scaler.fit_transform(X_train)\n",
        "X_test_scaled = scaler.transform(X_test)\n",
        "\n",
        "y_train_cat = to_categorical(y_train, num_classes=3)\n",
        "y_test_cat = to_categorical(y_test, num_classes=3)"
      ]
    },
    {
      "cell_type": "code",
      "source": [
        "from tensorflow.keras.models import Sequential\n",
        "from tensorflow.keras.layers import Dense\n",
        "from tensorflow.keras.optimizers import Adam\n",
        "\n",
        "# Definir e treinar o modelo\n",
        "model = Sequential([\n",
        "    Dense(32, activation='relu', input_shape=(13,)),\n",
        "    Dense(32, activation='relu'),\n",
        "    Dense(3, activation='softmax')\n",
        "])\n",
        "model.compile(optimizer=Adam(), loss='categorical_crossentropy', metrics=['accuracy'])\n",
        "\n",
        "history = model.fit(X_train_scaled, y_train_cat, epochs=50, batch_size=8,\n",
        "                    validation_split=0.1, verbose=1)\n",
        "\n",
        "score = model.evaluate(X_test_scaled, y_test_cat, verbose=0)\n",
        "print(f'Acurácia Rede Neural (Keras): {score[1]:.4f}')"
      ],
      "metadata": {
        "id": "T9mT_aHbhA9H"
      },
      "execution_count": null,
      "outputs": []
    },
    {
      "cell_type": "code",
      "source": [
        "from sklearn.ensemble import RandomForestClassifier\n",
        "from sklearn.linear_model import LogisticRegression\n",
        "from sklearn.metrics import accuracy_score\n",
        "\n",
        "# RandomForest\n",
        "rf = RandomForestClassifier(random_state=42)\n",
        "rf.fit(X_train_scaled, y_train)\n",
        "rf_pred = rf.predict(X_test_scaled)\n",
        "rf_acc = accuracy_score(y_test, rf_pred)\n",
        "print(f'Acurácia RandomForest: {rf_acc:.4f}')\n",
        "\n",
        "# LogisticRegression\n",
        "lr = LogisticRegression(max_iter=200, random_state=42)\n",
        "lr.fit(X_train_scaled, y_train)\n",
        "lr_pred = lr.predict(X_test_scaled)\n",
        "lr_acc = accuracy_score(y_test, lr_pred)\n",
        "print(f'Acurácia LogisticRegression: {lr_acc:.4f}')"
      ],
      "metadata": {
        "id": "tFbyWxQ2hWrQ"
      },
      "execution_count": null,
      "outputs": []
    },
    {
      "cell_type": "code",
      "source": [
        "results = pd.DataFrame({\n",
        "    'Modelo': ['Rede Neural (Keras)', 'RandomForest', 'LogisticRegression'],\n",
        "    'Acurácia': [score[1], rf_acc, lr_acc]\n",
        "})\n",
        "print(results)"
      ],
      "metadata": {
        "id": "k-b7_VL1hfz5"
      },
      "execution_count": null,
      "outputs": []
    },
    {
      "cell_type": "markdown",
      "source": [
        "EXERCÍCIO 2 – REGRESSÃO\n",
        "Dataset: California Housing Dataset (Scikit-learn)\n",
        "1. Treinar uma rede neural em Keras para prever o valor médio das casas.\n",
        "- Configuração mínima: 3 camadas ocultas com 64, 32 e 16 neurônios, função de ativação ReLU.\n",
        "- Camada de saída com 1 neurônio, função de ativação Linear.\n",
        "- Função de perda: mse.\n",
        "- Otimizador: Adam.\n",
        "2. Comparar os resultados com um modelo do scikit-learn (LinearRegression ou\n",
        "RandomForestRegressor).\n",
        "3. Registrar métricas de erro (RMSE ou MAE) e discutir qual modelo teve melhor desempenho.\n"
      ],
      "metadata": {
        "id": "t5p_7nm8inoD"
      }
    },
    {
      "cell_type": "code",
      "source": [
        "from sklearn.datasets import fetch_california_housing\n",
        "from sklearn.model_selection import train_test_split\n",
        "from sklearn.preprocessing import StandardScaler\n",
        "import numpy as np\n",
        "\n",
        "# Carregar o dataset\n",
        "housing = fetch_california_housing()\n",
        "X, y = housing.data, housing.target\n",
        "\n",
        "# Dividir em treino e teste\n",
        "X_train, X_test, y_train, y_test = train_test_split(\n",
        "    X, y, test_size=0.2, random_state=42\n",
        ")\n",
        "\n",
        "# Normalizar features\n",
        "scaler = StandardScaler()\n",
        "X_train_scaled = scaler.fit_transform(X_train)\n",
        "X_test_scaled = scaler.transform(X_test)\n"
      ],
      "metadata": {
        "id": "6Fhp1kPbiqGL"
      },
      "execution_count": null,
      "outputs": []
    },
    {
      "cell_type": "code",
      "source": [
        "import tensorflow as tf\n",
        "from tensorflow.keras.models import Sequential\n",
        "from tensorflow.keras.layers import Dense\n",
        "\n",
        "# Definir e treinar o modelo\n",
        "model = Sequential([\n",
        "    Dense(64, activation='relu', input_shape=(X_train_scaled.shape[1],)),\n",
        "    Dense(32, activation='relu'),\n",
        "    Dense(16, activation='relu'),\n",
        "    Dense(1, activation='linear')\n",
        "])\n",
        "model.compile(optimizer='adam', loss='mse', metrics=['mae'])\n",
        "\n",
        "history = model.fit(X_train_scaled, y_train, epochs=25, batch_size=32,\n",
        "                    validation_split=0.1, verbose=1)\n",
        "\n",
        "# Avaliação\n",
        "loss, mae = model.evaluate(X_test_scaled, y_test, verbose=0)\n",
        "y_pred_nn = model.predict(X_test_scaled).ravel()\n",
        "rmse_nn = np.sqrt(np.mean((y_pred_nn - y_test) ** 2))\n",
        "print(f'MAE (Rede Neural): {mae:.3f}')\n",
        "print(f'RMSE (Rede Neural): {rmse_nn:.3f}')\n"
      ],
      "metadata": {
        "id": "amHC57VjjSrb"
      },
      "execution_count": null,
      "outputs": []
    },
    {
      "cell_type": "code",
      "source": [
        "from sklearn.linear_model import LinearRegression\n",
        "from sklearn.ensemble import RandomForestRegressor\n",
        "from sklearn.metrics import mean_absolute_error, mean_squared_error\n",
        "\n",
        "# Linear Regression\n",
        "lr = LinearRegression()\n",
        "lr.fit(X_train_scaled, y_train)\n",
        "y_pred_lr = lr.predict(X_test_scaled)\n",
        "mae_lr = mean_absolute_error(y_test, y_pred_lr)\n",
        "rmse_lr = np.sqrt(mean_squared_error(y_test, y_pred_lr))\n",
        "print(f'MAE (LinearRegression): {mae_lr:.3f}')\n",
        "print(f'RMSE (LinearRegression): {rmse_lr:.3f}')\n",
        "\n",
        "# RandomForest\n",
        "rf = RandomForestRegressor(random_state=42)\n",
        "rf.fit(X_train_scaled, y_train)\n",
        "y_pred_rf = rf.predict(X_test_scaled)\n",
        "mae_rf = mean_absolute_error(y_test, y_pred_rf)\n",
        "rmse_rf = np.sqrt(mean_squared_error(y_test, y_pred_rf))\n",
        "print(f'MAE (RandomForestRegressor): {mae_rf:.3f}')\n",
        "print(f'RMSE (RandomForestRegressor): {rmse_rf:.3f}')\n"
      ],
      "metadata": {
        "id": "rek-VKjdjWmc"
      },
      "execution_count": null,
      "outputs": []
    },
    {
      "cell_type": "code",
      "source": [
        "import pandas as pd\n",
        "\n",
        "result = pd.DataFrame(\n",
        "    {\n",
        "        \"Modelo\": [\n",
        "            \"Rede Neural (Keras)\",\n",
        "            \"LinearRegression\",\n",
        "            \"RandomForestRegressor\"\n",
        "        ],\n",
        "        \"MAE\": [mae, mae_lr, mae_rf],\n",
        "        \"RMSE\": [rmse_nn, rmse_lr, rmse_rf]\n",
        "    }\n",
        ")\n",
        "print(result)\n"
      ],
      "metadata": {
        "id": "ZaN2SpzRjgs8"
      },
      "execution_count": null,
      "outputs": []
    }
  ]
}